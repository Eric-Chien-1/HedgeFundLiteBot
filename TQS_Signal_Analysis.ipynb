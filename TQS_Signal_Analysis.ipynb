{
 "cells": [
  {
   "cell_type": "markdown",
   "id": "d9ad0dcc",
   "metadata": {},
   "source": [
    "# 📓 TQS Signal Analysis"
   ]
  },
  {
   "cell_type": "markdown",
   "id": "fcb16cf4",
   "metadata": {},
   "source": [
    "This notebook analyzes signal performance using the TQS log and price data."
   ]
  },
  {
   "cell_type": "code",
   "execution_count": null,
   "id": "957f3de0",
   "metadata": {},
   "outputs": [],
   "source": [
    "\n",
    "import pandas as pd\n",
    "import matplotlib.pyplot as plt\n",
    "\n",
    "# Load signal log\n",
    "signals = pd.read_csv(\"signals_log.csv\")\n",
    "signals[\"timestamp\"] = pd.to_datetime(signals[\"timestamp\"])\n",
    "signals.head()\n",
    "    "
   ]
  },
  {
   "cell_type": "markdown",
   "id": "811d5422",
   "metadata": {},
   "source": [
    "## 📊 Score Distribution"
   ]
  },
  {
   "cell_type": "code",
   "execution_count": null,
   "id": "da6f8ef2",
   "metadata": {},
   "outputs": [],
   "source": [
    "\n",
    "plt.figure(figsize=(10, 4))\n",
    "plt.hist(signals[\"score\"], bins=20, color='skyblue', edgecolor='black')\n",
    "plt.title(\"TQS Score Distribution\")\n",
    "plt.xlabel(\"Score\")\n",
    "plt.ylabel(\"Frequency\")\n",
    "plt.grid(True)\n",
    "plt.show()\n",
    "    "
   ]
  },
  {
   "cell_type": "markdown",
   "id": "6b843504",
   "metadata": {},
   "source": [
    "## 🧠 Component Frequency"
   ]
  },
  {
   "cell_type": "code",
   "execution_count": null,
   "id": "20e493c6",
   "metadata": {},
   "outputs": [],
   "source": [
    "\n",
    "from collections import Counter\n",
    "\n",
    "component_counts = Counter()\n",
    "for breakdown in signals[\"breakdown\"]:\n",
    "    parts = [p.split(\":\")[1].strip() for p in breakdown.split(\";\") if \":\" in p]\n",
    "    component_counts.update(parts)\n",
    "\n",
    "# Convert to DataFrame\n",
    "components_df = pd.DataFrame(component_counts.items(), columns=[\"Component\", \"Count\"])\n",
    "components_df.sort_values(\"Count\", ascending=False).plot(kind=\"bar\", x=\"Component\", y=\"Count\", legend=False, figsize=(10, 4))\n",
    "plt.title(\"Most Frequent TQS Components\")\n",
    "plt.ylabel(\"Count\")\n",
    "plt.tight_layout()\n",
    "plt.show()\n",
    "    "
   ]
  },
  {
   "cell_type": "markdown",
   "id": "623ac262",
   "metadata": {},
   "source": [
    "## 🔁 Price Correlation Placeholder"
   ]
  },
  {
   "cell_type": "code",
   "execution_count": null,
   "id": "113be42b",
   "metadata": {},
   "outputs": [],
   "source": [
    "\n",
    "# To be implemented: Merge with price data to evaluate future returns\n",
    "# Requires: priceData DataFrame with 'timestamp' and 'close' columns\n",
    "\n",
    "# Example:\n",
    "# merged = pd.merge_asof(signals.sort_values(\"timestamp\"), priceData.sort_values(\"timestamp\"), on=\"timestamp\", direction=\"forward\")\n",
    "# merged[\"future_return\"] = merged[\"close\"].pct_change(periods=15)\n",
    "# plt.scatter(merged[\"score\"], merged[\"future_return\"])\n",
    "# plt.title(\"TQS vs 15-min Future Return\")\n"
   ]
  }
 ],
 "metadata": {},
 "nbformat": 4,
 "nbformat_minor": 5
}